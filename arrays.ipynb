{
 "cells": [
  {
   "metadata": {},
   "cell_type": "markdown",
   "source": [
    "## Array Data Structure\n",
    "\n",
    "### Static and Dynamic Arrays\n",
    "- Static arrays are fixed in size and cannot be resized.\n",
    "- Dynamic arrays can be resized.\n",
    "\n",
    "What is an array?\n",
    "When is an array useful?\n",
    "Complexity\n",
    "Usage Examples\n",
    "\n",
    "Dynamic Array Implementation\n",
    "\n",
    "#### Static Array\n",
    "What is a static array?\n",
    "n elements from range [0, n-1]\n",
    "indexable: element can be referenced with a number\n",
    "Contiguous memory: elements are stored in adjacent memory locations\n",
    "\n",
    "1)  Storing sequential data\n",
    "2) Temp storing of objects\n",
    "3) I/O routines as buffers\n",
    "4) Lookup tables and inverse lookup tables\n",
    "5) Used to return multiple values from a function\n",
    "6) Dynamic programming to cache answers in sub-problems\n",
    "\n",
    "| Operation | Static Array | Dynamic Array |\n",
    "|-----------|--------------|---------------|\n",
    "| Access    | O(1)         | O(1)          |\n",
    "| Search    | O(n)         | O(n)          |\n",
    "| Insertion | N/A          | O(n)          |\n",
    "| Appending | N/A          | O(1)          |\n",
    "| Deletion  | N/A          | O(n)          |\n",
    "\n"
   ],
   "id": "e73ff6f248177682"
  },
  {
   "cell_type": "code",
   "id": "initial_id",
   "metadata": {
    "collapsed": true,
    "ExecuteTime": {
     "end_time": "2024-09-17T12:31:55.574330Z",
     "start_time": "2024-09-17T12:31:55.537774Z"
    }
   },
   "source": [
    "A = [44, 12 , -5, 17, 6, 0, 3, 9, 100]\n",
    "\n",
    "# starts at index 0, 100 is index 8\n",
    "print(A[0])\n",
    "print(A[8])\n",
    "\n",
    "\n",
    "# can be iterated over a for each loop\n",
    "#  A[9] will be out of bounds, throws an error\n",
    "print(A[9])"
   ],
   "outputs": [
    {
     "name": "stdout",
     "output_type": "stream",
     "text": [
      "44\n",
      "100\n"
     ]
    },
    {
     "ename": "IndexError",
     "evalue": "list index out of range",
     "output_type": "error",
     "traceback": [
      "\u001B[1;31m---------------------------------------------------------------------------\u001B[0m",
      "\u001B[1;31mIndexError\u001B[0m                                Traceback (most recent call last)",
      "Cell \u001B[1;32mIn[2], line 10\u001B[0m\n\u001B[0;32m      5\u001B[0m \u001B[38;5;28mprint\u001B[39m(A[\u001B[38;5;241m8\u001B[39m])\n\u001B[0;32m      8\u001B[0m \u001B[38;5;66;03m# can be iterated over a for each loop\u001B[39;00m\n\u001B[0;32m      9\u001B[0m \u001B[38;5;66;03m#  A[9] will be out of bounds, throws an error\u001B[39;00m\n\u001B[1;32m---> 10\u001B[0m \u001B[38;5;28mprint\u001B[39m(A[\u001B[38;5;241m9\u001B[39m])\n",
      "\u001B[1;31mIndexError\u001B[0m: list index out of range"
     ]
    }
   ],
   "execution_count": 2
  },
  {
   "metadata": {},
   "cell_type": "markdown",
   "source": [
    "#### Dynamic Array\n",
    "\n",
    "Can grow and shrink as needed\n",
    "A = [34,7]\n",
    "A.add(-7)\n",
    "A = [34,7,-7]\n",
    "\n",
    "\n",
    "We can create a static array with a non 0 initial capacity\n",
    "Add elements ot underlying array, keeping track of element count\n",
    "If adding another element will exceed capacity, then we create a new static array with double the capacity\n",
    "\n"
   ],
   "id": "f47a43bfdfe3c496"
  },
  {
   "metadata": {
    "ExecuteTime": {
     "end_time": "2024-09-17T12:33:08.810108Z",
     "start_time": "2024-09-17T12:33:08.802633Z"
    }
   },
   "cell_type": "code",
   "source": [
    "# array with capacity of 2\n",
    "A = [None] * 2\n",
    "A[0] = 1\n",
    "A[1] = 2\n",
    "print(A)\n",
    "\n",
    "# add another element, double the capacity\n",
    "B = [None] * 4\n",
    "for i in range(2):\n",
    "    B[i] = A[i]\n",
    "    \n",
    "B[2] = 3\n",
    "\n",
    "print(B)\n"
   ],
   "id": "3af1b3a2ab82913b",
   "outputs": [
    {
     "name": "stdout",
     "output_type": "stream",
     "text": [
      "[1, 2]\n",
      "[1, 2, 3, None]\n"
     ]
    }
   ],
   "execution_count": 3
  },
  {
   "metadata": {
    "ExecuteTime": {
     "end_time": "2024-09-17T12:34:05.201805Z",
     "start_time": "2024-09-17T12:34:05.182499Z"
    }
   },
   "cell_type": "code",
   "source": [
    "# creating a dynamic array\n",
    "class Array:\n",
    "    __arr =[]\n",
    "    __len = 0\n",
    "    __capacity = 0\n",
    "    \n",
    "    def __init__(self, capacity=16):\n",
    "        self.__initialize_array(capacity)\n",
    "\n",
    "    def __initialize_array(self, capacity):\n",
    "        if capacity < 0:\n",
    "            raise ValueError(\"Illegal Capacity: {0}\".format(capacity))\n",
    "        self.__capacity = capacity\n",
    "        self.__arr = [None] * capacity\n",
    "    \n",
    "    def size(self): return self.__len\n",
    "    def is_empty(self): return self.__len == 0\n",
    "    \n",
    "    def get(self, index):\n",
    "        if index < 0 or index >= self.__capacity:\n",
    "            raise IndexError(\"Index out of bounds\")\n",
    "        return self.__arr[index]\n",
    "    \n",
    "    def set(self, index, elem):\n",
    "        if index < 0 or index >= self.__capacity:\n",
    "            raise IndexError(\"Index out of bounds\")\n",
    "        self.__arr[index] = elem\n",
    "        if index == self.__len:\n",
    "            self.__len += 1\n",
    "        \n",
    "    def clear(self):\n",
    "        for index in range(self.__capacity):\n",
    "            self.__arr[index] = None\n",
    "        self.__len = 0\n",
    "        \n",
    "    def add(self, elem):\n",
    "        if self.__len +1 >= self.__capacity:\n",
    "            if self.__capacity == 0: \n",
    "                self.__capacity = 1\n",
    "            else:\n",
    "                self.__capacity *= 2 # double capacity\n",
    "            new_arr = [None] * self.__capacity\n",
    "            for j in range(self.__len):\n",
    "                new_arr[j] = self.__arr[j]\n",
    "            self.__arr = new_arr\n",
    "        self.__arr[(self.__len +1)] = elem\n",
    "        self.__len += 1\n",
    "    \n",
    "    def remove_at(self, rm_index):\n",
    "        if rm_index < 0 or rm_index >= self.__len:\n",
    "            raise IndexError(\"Index out of bounds\")\n",
    "        data = self.__arr[rm_index]\n",
    "        new_arr = [None] * self.__len - 1\n",
    "        for i, j in enumerate(self.__arr):\n",
    "            if i == rm_index:\n",
    "                j -= 1\n",
    "            else:\n",
    "                new_arr[j] = self.__arr[i]\n",
    "        self.__arr = new_arr\n",
    "        self.__capacity = self.__len - 1\n",
    "        return data\n",
    "    \n",
    "    def remove(self, elem):\n",
    "        for i in range(self.__len):\n",
    "            if self.__arr[i] == elem:\n",
    "                self.remove_at(i)\n",
    "                return True\n",
    "        return False\n",
    "    \n",
    "    def index_of(self, elem):\n",
    "        for i in range(self.__len):\n",
    "            if self.__arr[i] == elem:\n",
    "                return i\n",
    "        return -1\n",
    "    \n",
    "    def contains(self, elem):\n",
    "        return self.index_of(elem) != -1\n",
    "    \n",
    "    def iterator(self):\n",
    "        index = 0;\n",
    "        def has_next(): return index < self.__len\n",
    "        def next_item(): return self.__arr[(index +1 )]\n",
    "        \n",
    "    def to_string(self):\n",
    "        if self.__len == 0:\n",
    "            return \"[]\"\n",
    "        else:\n",
    "            sb = \"[\"\n",
    "            for i in range(self.__len):\n",
    "                sb += str(self.__arr[i]) \n",
    "                if i != self.__len - 1:\n",
    "                    sb += \", \"\n",
    "            return sb + \"]\"\n",
    "        \n",
    "        \n",
    "\n",
    "print('Array 1')\n",
    "array_1 = Array()\n",
    "print(array_1.size())\n",
    "print(array_1.is_empty())\n",
    "array_1.set(0, 20)\n",
    "print(array_1.is_empty())\n",
    "print(array_1.size())\n",
    "print(array_1.get(0))\n",
    "\n",
    "print('Array 2')\n",
    "array_2 = Array(32)\n",
    "print(array_2.size())\n",
    "print(array_2.is_empty())\n",
    "array_2.set(0, 500)\n",
    "array_2.set(1, 1000)\n",
    "\n",
    "print(array_2.is_empty())\n",
    "print(array_2.size())\n",
    "print(array_2.to_string())\n",
    "print(array_2.index_of(500))\n",
    "\n",
    "    "
   ],
   "id": "937c5e15ea74f0b4",
   "outputs": [
    {
     "name": "stdout",
     "output_type": "stream",
     "text": [
      "Array 1\n",
      "0\n",
      "True\n",
      "False\n",
      "1\n",
      "20\n",
      "Array 2\n",
      "0\n",
      "True\n",
      "False\n",
      "2\n",
      "[500, 1000]\n",
      "0\n"
     ]
    }
   ],
   "execution_count": 5
  },
  {
   "metadata": {},
   "cell_type": "code",
   "outputs": [],
   "execution_count": null,
   "source": "",
   "id": "57110e111f44b084"
  }
 ],
 "metadata": {
  "kernelspec": {
   "display_name": "Python 3",
   "language": "python",
   "name": "python3"
  },
  "language_info": {
   "codemirror_mode": {
    "name": "ipython",
    "version": 2
   },
   "file_extension": ".py",
   "mimetype": "text/x-python",
   "name": "python",
   "nbconvert_exporter": "python",
   "pygments_lexer": "ipython2",
   "version": "2.7.6"
  }
 },
 "nbformat": 4,
 "nbformat_minor": 5
}
