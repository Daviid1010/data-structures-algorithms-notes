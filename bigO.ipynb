{
 "cells": [
  {
   "metadata": {},
   "cell_type": "markdown",
   "source": [
    "# Big O Notation\n",
    "\n",
    "This notebook is a collection of my own notes to reference for Big O Notation\n",
    "Below are examples of the most common Big O notations and their corresponding time complexity.\n",
    "\n",
    "n - The size of the input\n",
    " Ordered from best to worst time complexity\n",
    " Constant Time: O(1)\n",
    " Logarithmic Time: O(log(n))\n",
    " Linear Time: o(n)\n",
    " Linearithmic Time: 0(n log(n))\n",
    " Quadratic Time: O(n^2)\n",
    " Cubic Time: O(n^3)\n",
    " Exponential Time: O(2^n)\n",
    " Factorial Time: O(n!)\n",
    " \n",
    "\n",
    "$O(c + n) = O(n)$\n",
    "\n",
    "$O(c *n ) - 0(n)$\n",
    "\n",
    "$f(n) = 7log(n)^3 + 15n^2 + 2n^3 + 8$\n",
    "\n",
    "$0(f(n)) = O(n^3)$\n",
    " \n",
    "\n",
    "\n",
    "## O(1) Constant\n",
    "This is the shortest time complexity. It does not matter how many elements are being processed, the time complexity will be the same.\n"
   ],
   "id": "952c4e6168244db3"
  },
  {
   "cell_type": "code",
   "execution_count": null,
   "id": "initial_id",
   "metadata": {
    "collapsed": true
   },
   "outputs": [],
   "source": [
    "# O(1) Constant\n",
    "\n",
    "a = 1\n",
    "b = 2\n",
    "c = a + 5*b\n",
    "\n",
    "def constant(n):\n",
    "    i = 0\n",
    "    while i < 11:\n",
    "        i = i + 1\n",
    "        \n"
   ]
  },
  {
   "metadata": {},
   "cell_type": "code",
   "outputs": [],
   "execution_count": null,
   "source": [
    "# o(n) Linear\n",
    "\n",
    "# f(n) = n\n",
    "# O(f(n)) = O(n)\n",
    "def linear(n):\n",
    "    j = 0\n",
    "    while j < n:\n",
    "        j += 1\n",
    "\n",
    "# f(n) = n/3\n",
    "# O(f(n)) = O(n)\n",
    "def linear_2(n):\n",
    "    k = 0\n",
    "    while k < n:\n",
    "        k += 3"
   ],
   "id": "1a82d717ce3fc548"
  },
  {
   "metadata": {},
   "cell_type": "code",
   "outputs": [],
   "execution_count": null,
   "source": [
    "# O(n^2) Quadratic\n",
    "\n",
    "# f(n) = n*n\n",
    "# O(f(n)) = O(n^2)\n",
    "def quadratic_1(n):\n",
    "    for i in range(n):\n",
    "        for j in range(n):\n",
    "            print(i,j)\n",
    "        "
   ],
   "id": "ce419ddd1087ab21"
  },
  {
   "metadata": {
    "ExecuteTime": {
     "end_time": "2024-09-09T09:42:25.978023Z",
     "start_time": "2024-09-09T09:42:25.971248Z"
    }
   },
   "cell_type": "code",
   "source": [
    "\n",
    "# algorithm to find the index of a value in a list\n",
    "# 2 pointers, one at the beginning and one at the end\n",
    "# if the value is not found, return -1\n",
    "# O(n) time complexity: O(log2(n)) = O(log(n))\n",
    "def logarithmic(n, value):\n",
    "    low = 0\n",
    "    high = len(n) -1\n",
    "    while low <= high:\n",
    "        mid = int( (low + high) / 2)\n",
    "        if n[mid] == value:\n",
    "            return mid\n",
    "        elif n[mid] < value:\n",
    "            low = mid + 1\n",
    "        elif n[mid] > value:\n",
    "            high = mid - 1\n",
    "    return -1\n",
    "\n",
    "arr = [1,2,3,4,5,6,7,8,9,10]\n",
    "val = 1\n",
    "print(f\"Found value {val} at index {logarithmic(arr, val)} of list \")\n",
    "\n",
    "# f(n) = n * (3n + 2n) = 5n^2\n",
    "# O(f(n)) = O(n^2)\n",
    "# note here to multiply the loops, in this case i and j (both inner loops)\n",
    "def quadratic_2(n):\n",
    "    i = 0\n",
    "    while i < n:\n",
    "        j = 0\n",
    "        while j < 3*n:\n",
    "            j = i + 1\n",
    "        while j < 2*n:\n",
    "            j = j + 1\n",
    "        i = i + 1\n"
   ],
   "id": "a9bf5907eb15e646",
   "outputs": [
    {
     "name": "stdout",
     "output_type": "stream",
     "text": [
      "Found value 1 at index 0 of list \n"
     ]
    }
   ],
   "execution_count": 10
  },
  {
   "metadata": {},
   "cell_type": "code",
   "outputs": [],
   "execution_count": null,
   "source": [
    "# O(n^4)\n",
    "\n",
    "# f(n) = 3(n) * (40 + n^3/2) = 3n/40 + 3n^4/2\n",
    "# O(f(n)) = O(n^4)\n",
    "def exponential(n):\n",
    "    i = 0\n",
    "    while i < 3*n:\n",
    "        j = 10\n",
    "        while j <= 50:\n",
    "            j = j + 1\n",
    "        j = 0\n",
    "        while j < n*n*n:\n",
    "            j = j + 2\n",
    "        i = i + 1\n"
   ],
   "id": "347fff0cea43ccf5"
  },
  {
   "metadata": {},
   "cell_type": "code",
   "outputs": [],
   "execution_count": null,
   "source": [
    "# finding all subsets of a set\n",
    "# f(n) = 2^n\n",
    "# O(f(n)) = O(2^n)\n",
    "\n",
    "# finding all permutations of a string\n",
    "# f(n) = n!\n",
    "# O(f(n)) = O(n!)\n",
    "\n",
    "# sorting using merge sort\n",
    "# f(n) = n log(n)\n",
    "# O(f(n)) = O(n log(n))\n",
    "\n",
    "# iterating over all the cells in a matrix of size n x m\n",
    "# f(n) = n*m\n",
    "# O(f(n)) = O(n*m)"
   ],
   "id": "c204ce109c159178"
  }
 ],
 "metadata": {
  "kernelspec": {
   "display_name": "Python 3",
   "language": "python",
   "name": "python3"
  },
  "language_info": {
   "codemirror_mode": {
    "name": "ipython",
    "version": 2
   },
   "file_extension": ".py",
   "mimetype": "text/x-python",
   "name": "python",
   "nbconvert_exporter": "python",
   "pygments_lexer": "ipython2",
   "version": "2.7.6"
  }
 },
 "nbformat": 4,
 "nbformat_minor": 5
}
